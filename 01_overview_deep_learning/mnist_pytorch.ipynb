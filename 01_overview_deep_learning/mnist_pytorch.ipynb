{
 "cells": [
  {
   "cell_type": "markdown",
   "metadata": {},
   "source": [
    "## import modules"
   ]
  },
  {
   "cell_type": "code",
   "execution_count": 1,
   "metadata": {},
   "outputs": [],
   "source": [
    "import random\n",
    "import numpy as np\n",
    "import matplotlib.pyplot as plt\n",
    "\n",
    "import torch\n",
    "import torch.nn as nn\n",
    "import torch.nn.functional as F\n",
    "import torch.optim as optim\n",
    "from torchvision import datasets, transforms\n",
    "from torch.optim.lr_scheduler import StepLR"
   ]
  },
  {
   "cell_type": "markdown",
   "metadata": {},
   "source": [
    "## define model architecture"
   ]
  },
  {
   "cell_type": "code",
   "execution_count": 2,
   "metadata": {},
   "outputs": [],
   "source": [
    "class Net(nn.Module):\n",
    "    def __init__(self):\n",
    "        super(Net, self).__init__()\n",
    "        self.conv1 = nn.Conv2d(1, 32, 3, 1)\n",
    "        self.conv2 = nn.Conv2d(32, 64, 3, 1)\n",
    "        self.dropout1 = nn.Dropout2d(0.25)\n",
    "        self.dropout2 = nn.Dropout2d(0.5)\n",
    "        self.fc1 = nn.Linear(9216, 128)\n",
    "        self.fc2 = nn.Linear(128, 10)\n",
    "\n",
    "    def forward(self, x):\n",
    "        x = self.conv1(x)\n",
    "        x = F.relu(x)\n",
    "        x = self.conv2(x)\n",
    "        x = F.relu(x)\n",
    "        x = F.max_pool2d(x, 2)\n",
    "        x = self.dropout1(x)\n",
    "        x = torch.flatten(x, 1)\n",
    "        x = self.fc1(x)\n",
    "        x = F.relu(x)\n",
    "        x = self.dropout2(x)\n",
    "        x = self.fc2(x)\n",
    "        output = F.log_softmax(x, dim=1)\n",
    "        return output"
   ]
  },
  {
   "cell_type": "markdown",
   "metadata": {},
   "source": [
    "## define training and inference routines"
   ]
  },
  {
   "cell_type": "code",
   "execution_count": 3,
   "metadata": {},
   "outputs": [],
   "source": [
    "def train(model, device, train_loader, optimizer, epoch):\n",
    "    model.train()\n",
    "    for batch_idx, (data, target) in enumerate(train_loader):\n",
    "        data, target = data.to(device), target.to(device)\n",
    "        optimizer.zero_grad()\n",
    "        output = model(data)\n",
    "        loss = F.nll_loss(output, target)\n",
    "        loss.backward()\n",
    "        optimizer.step()\n",
    "        if batch_idx % 10 == 0:\n",
    "            print('Train Epoch: {} [{}/{} ({:.0f}%)]\\tLoss: {:.6f}'.format(\n",
    "                epoch, batch_idx * len(data), len(train_loader.dataset),\n",
    "                100. * batch_idx / len(train_loader), loss.item()))\n"
   ]
  },
  {
   "cell_type": "code",
   "execution_count": 4,
   "metadata": {},
   "outputs": [],
   "source": [
    "def test(model, device, test_loader):\n",
    "    model.eval()\n",
    "    test_loss = 0\n",
    "    correct = 0\n",
    "    with torch.no_grad():\n",
    "        for data, target in test_loader:\n",
    "            data, target = data.to(device), target.to(device)\n",
    "            output = model(data)\n",
    "            test_loss += F.nll_loss(output, target, reduction='sum').item()  # sum up batch loss\n",
    "            pred = output.argmax(dim=1, keepdim=True)  # get the index of the max log-probability\n",
    "            correct += pred.eq(target.view_as(pred)).sum().item()\n",
    "\n",
    "    test_loss /= len(test_loader.dataset)\n",
    "\n",
    "    print('\\nTest set: Average loss: {:.4f}, Accuracy: {}/{} ({:.0f}%)\\n'.format(\n",
    "        test_loss, correct, len(test_loader.dataset),\n",
    "        100. * correct / len(test_loader.dataset)))\n"
   ]
  },
  {
   "cell_type": "markdown",
   "metadata": {},
   "source": [
    "## create data loaders"
   ]
  },
  {
   "cell_type": "code",
   "execution_count": 5,
   "metadata": {},
   "outputs": [],
   "source": [
    "train_loader = torch.utils.data.DataLoader(\n",
    "    datasets.MNIST('../data', train=True, download=True,\n",
    "                   transform=transforms.Compose([\n",
    "                       transforms.ToTensor(),\n",
    "                       transforms.Normalize((0.1307,), (0.3081,))\n",
    "                   ])), batch_size=64, shuffle=True)\n",
    "test_loader = torch.utils.data.DataLoader(\n",
    "    datasets.MNIST('../data', train=False, transform=transforms.Compose([\n",
    "                       transforms.ToTensor(),\n",
    "                       transforms.Normalize((0.1307,), (0.3081,))\n",
    "                   ])),\n",
    "    batch_size=1000, shuffle=True)"
   ]
  },
  {
   "cell_type": "markdown",
   "metadata": {},
   "source": [
    "## define optimizer and run training epochs"
   ]
  },
  {
   "cell_type": "code",
   "execution_count": null,
   "metadata": {},
   "outputs": [],
   "source": []
  },
  {
   "cell_type": "code",
   "execution_count": 6,
   "metadata": {},
   "outputs": [],
   "source": [
    "torch.manual_seed(0)\n",
    "torch.cuda.manual_seed(0)\n",
    "np.random.seed(0)\n",
    "random.seed(0)\n",
    "\n",
    "device = torch.device(\"cpu\")\n",
    "\n",
    "model = Net()\n",
    "optimizer = optim.Adadelta(model.parameters(), lr=0.5)\n",
    "\n",
    "# scheduler = StepLR(optimizer, step_size=1, gamma=0.7)"
   ]
  },
  {
   "cell_type": "markdown",
   "metadata": {},
   "source": [
    "## model training"
   ]
  },
  {
   "cell_type": "code",
   "execution_count": 7,
   "metadata": {
    "scrolled": true
   },
   "outputs": [
    {
     "name": "stdout",
     "output_type": "stream",
     "text": [
      "Train Epoch: 1 [0/60000 (0%)]\tLoss: 2.318902\n",
      "Train Epoch: 1 [640/60000 (1%)]\tLoss: 1.260487\n",
      "Train Epoch: 1 [1280/60000 (2%)]\tLoss: 0.845640\n",
      "Train Epoch: 1 [1920/60000 (3%)]\tLoss: 0.910280\n",
      "Train Epoch: 1 [2560/60000 (4%)]\tLoss: 0.390269\n",
      "Train Epoch: 1 [3200/60000 (5%)]\tLoss: 0.332739\n",
      "Train Epoch: 1 [3840/60000 (6%)]\tLoss: 0.448877\n",
      "Train Epoch: 1 [4480/60000 (7%)]\tLoss: 0.298393\n",
      "Train Epoch: 1 [5120/60000 (9%)]\tLoss: 0.503042\n",
      "Train Epoch: 1 [5760/60000 (10%)]\tLoss: 0.223934\n",
      "Train Epoch: 1 [6400/60000 (11%)]\tLoss: 0.408854\n",
      "Train Epoch: 1 [7040/60000 (12%)]\tLoss: 0.164622\n",
      "Train Epoch: 1 [7680/60000 (13%)]\tLoss: 0.169872\n",
      "Train Epoch: 1 [8320/60000 (14%)]\tLoss: 0.469457\n",
      "Train Epoch: 1 [8960/60000 (15%)]\tLoss: 0.381625\n",
      "Train Epoch: 1 [9600/60000 (16%)]\tLoss: 0.340721\n",
      "Train Epoch: 1 [10240/60000 (17%)]\tLoss: 0.175661\n",
      "Train Epoch: 1 [10880/60000 (18%)]\tLoss: 0.176566\n",
      "Train Epoch: 1 [11520/60000 (19%)]\tLoss: 0.163720\n",
      "Train Epoch: 1 [12160/60000 (20%)]\tLoss: 0.197197\n",
      "Train Epoch: 1 [12800/60000 (21%)]\tLoss: 0.358346\n",
      "Train Epoch: 1 [13440/60000 (22%)]\tLoss: 0.134378\n",
      "Train Epoch: 1 [14080/60000 (23%)]\tLoss: 0.132333\n",
      "Train Epoch: 1 [14720/60000 (25%)]\tLoss: 0.267857\n",
      "Train Epoch: 1 [15360/60000 (26%)]\tLoss: 0.205452\n",
      "Train Epoch: 1 [16000/60000 (27%)]\tLoss: 0.124313\n",
      "Train Epoch: 1 [16640/60000 (28%)]\tLoss: 0.105835\n",
      "Train Epoch: 1 [17280/60000 (29%)]\tLoss: 0.111669\n",
      "Train Epoch: 1 [17920/60000 (30%)]\tLoss: 0.105846\n",
      "Train Epoch: 1 [18560/60000 (31%)]\tLoss: 0.077849\n",
      "Train Epoch: 1 [19200/60000 (32%)]\tLoss: 0.048854\n",
      "Train Epoch: 1 [19840/60000 (33%)]\tLoss: 0.040286\n",
      "Train Epoch: 1 [20480/60000 (34%)]\tLoss: 0.128138\n",
      "Train Epoch: 1 [21120/60000 (35%)]\tLoss: 0.257019\n",
      "Train Epoch: 1 [21760/60000 (36%)]\tLoss: 0.100136\n",
      "Train Epoch: 1 [22400/60000 (37%)]\tLoss: 0.137551\n",
      "Train Epoch: 1 [23040/60000 (38%)]\tLoss: 0.027502\n",
      "Train Epoch: 1 [23680/60000 (39%)]\tLoss: 0.297030\n",
      "Train Epoch: 1 [24320/60000 (41%)]\tLoss: 0.137334\n",
      "Train Epoch: 1 [24960/60000 (42%)]\tLoss: 0.076728\n",
      "Train Epoch: 1 [25600/60000 (43%)]\tLoss: 0.121437\n",
      "Train Epoch: 1 [26240/60000 (44%)]\tLoss: 0.131006\n",
      "Train Epoch: 1 [26880/60000 (45%)]\tLoss: 0.057057\n",
      "Train Epoch: 1 [27520/60000 (46%)]\tLoss: 0.175813\n",
      "Train Epoch: 1 [28160/60000 (47%)]\tLoss: 0.082588\n",
      "Train Epoch: 1 [28800/60000 (48%)]\tLoss: 0.186991\n",
      "Train Epoch: 1 [29440/60000 (49%)]\tLoss: 0.157580\n",
      "Train Epoch: 1 [30080/60000 (50%)]\tLoss: 0.055714\n",
      "Train Epoch: 1 [30720/60000 (51%)]\tLoss: 0.081465\n",
      "Train Epoch: 1 [31360/60000 (52%)]\tLoss: 0.062140\n",
      "Train Epoch: 1 [32000/60000 (53%)]\tLoss: 0.117909\n",
      "Train Epoch: 1 [32640/60000 (54%)]\tLoss: 0.105527\n",
      "Train Epoch: 1 [33280/60000 (55%)]\tLoss: 0.089232\n",
      "Train Epoch: 1 [33920/60000 (57%)]\tLoss: 0.174845\n",
      "Train Epoch: 1 [34560/60000 (58%)]\tLoss: 0.193626\n",
      "Train Epoch: 1 [35200/60000 (59%)]\tLoss: 0.125986\n",
      "Train Epoch: 1 [35840/60000 (60%)]\tLoss: 0.092158\n",
      "Train Epoch: 1 [36480/60000 (61%)]\tLoss: 0.062837\n",
      "Train Epoch: 1 [37120/60000 (62%)]\tLoss: 0.045952\n",
      "Train Epoch: 1 [37760/60000 (63%)]\tLoss: 0.094160\n",
      "Train Epoch: 1 [38400/60000 (64%)]\tLoss: 0.179968\n",
      "Train Epoch: 1 [39040/60000 (65%)]\tLoss: 0.034778\n",
      "Train Epoch: 1 [39680/60000 (66%)]\tLoss: 0.071585\n",
      "Train Epoch: 1 [40320/60000 (67%)]\tLoss: 0.092989\n",
      "Train Epoch: 1 [40960/60000 (68%)]\tLoss: 0.207097\n",
      "Train Epoch: 1 [41600/60000 (69%)]\tLoss: 0.225864\n",
      "Train Epoch: 1 [42240/60000 (70%)]\tLoss: 0.171925\n",
      "Train Epoch: 1 [42880/60000 (71%)]\tLoss: 0.138131\n",
      "Train Epoch: 1 [43520/60000 (72%)]\tLoss: 0.090487\n",
      "Train Epoch: 1 [44160/60000 (74%)]\tLoss: 0.142658\n",
      "Train Epoch: 1 [44800/60000 (75%)]\tLoss: 0.074566\n",
      "Train Epoch: 1 [45440/60000 (76%)]\tLoss: 0.263405\n",
      "Train Epoch: 1 [46080/60000 (77%)]\tLoss: 0.088093\n",
      "Train Epoch: 1 [46720/60000 (78%)]\tLoss: 0.047315\n",
      "Train Epoch: 1 [47360/60000 (79%)]\tLoss: 0.061875\n",
      "Train Epoch: 1 [48000/60000 (80%)]\tLoss: 0.116237\n",
      "Train Epoch: 1 [48640/60000 (81%)]\tLoss: 0.256587\n",
      "Train Epoch: 1 [49280/60000 (82%)]\tLoss: 0.091231\n",
      "Train Epoch: 1 [49920/60000 (83%)]\tLoss: 0.091463\n",
      "Train Epoch: 1 [50560/60000 (84%)]\tLoss: 0.270116\n",
      "Train Epoch: 1 [51200/60000 (85%)]\tLoss: 0.101415\n",
      "Train Epoch: 1 [51840/60000 (86%)]\tLoss: 0.045957\n",
      "Train Epoch: 1 [52480/60000 (87%)]\tLoss: 0.041018\n",
      "Train Epoch: 1 [53120/60000 (88%)]\tLoss: 0.047776\n",
      "Train Epoch: 1 [53760/60000 (90%)]\tLoss: 0.258058\n",
      "Train Epoch: 1 [54400/60000 (91%)]\tLoss: 0.107430\n",
      "Train Epoch: 1 [55040/60000 (92%)]\tLoss: 0.148437\n",
      "Train Epoch: 1 [55680/60000 (93%)]\tLoss: 0.151625\n",
      "Train Epoch: 1 [56320/60000 (94%)]\tLoss: 0.066304\n",
      "Train Epoch: 1 [56960/60000 (95%)]\tLoss: 0.110612\n",
      "Train Epoch: 1 [57600/60000 (96%)]\tLoss: 0.037599\n",
      "Train Epoch: 1 [58240/60000 (97%)]\tLoss: 0.032077\n",
      "Train Epoch: 1 [58880/60000 (98%)]\tLoss: 0.057487\n",
      "Train Epoch: 1 [59520/60000 (99%)]\tLoss: 0.077352\n",
      "\n",
      "Test set: Average loss: 0.0521, Accuracy: 9832/10000 (98%)\n",
      "\n",
      "Train Epoch: 2 [0/60000 (0%)]\tLoss: 0.087238\n",
      "Train Epoch: 2 [640/60000 (1%)]\tLoss: 0.104193\n",
      "Train Epoch: 2 [1280/60000 (2%)]\tLoss: 0.322711\n",
      "Train Epoch: 2 [1920/60000 (3%)]\tLoss: 0.136174\n",
      "Train Epoch: 2 [2560/60000 (4%)]\tLoss: 0.156950\n",
      "Train Epoch: 2 [3200/60000 (5%)]\tLoss: 0.082425\n",
      "Train Epoch: 2 [3840/60000 (6%)]\tLoss: 0.233045\n",
      "Train Epoch: 2 [4480/60000 (7%)]\tLoss: 0.046715\n",
      "Train Epoch: 2 [5120/60000 (9%)]\tLoss: 0.072223\n",
      "Train Epoch: 2 [5760/60000 (10%)]\tLoss: 0.103762\n",
      "Train Epoch: 2 [6400/60000 (11%)]\tLoss: 0.031990\n",
      "Train Epoch: 2 [7040/60000 (12%)]\tLoss: 0.033122\n",
      "Train Epoch: 2 [7680/60000 (13%)]\tLoss: 0.201769\n",
      "Train Epoch: 2 [8320/60000 (14%)]\tLoss: 0.073957\n",
      "Train Epoch: 2 [8960/60000 (15%)]\tLoss: 0.016892\n",
      "Train Epoch: 2 [9600/60000 (16%)]\tLoss: 0.196654\n",
      "Train Epoch: 2 [10240/60000 (17%)]\tLoss: 0.099060\n",
      "Train Epoch: 2 [10880/60000 (18%)]\tLoss: 0.178196\n",
      "Train Epoch: 2 [11520/60000 (19%)]\tLoss: 0.122408\n",
      "Train Epoch: 2 [12160/60000 (20%)]\tLoss: 0.056701\n",
      "Train Epoch: 2 [12800/60000 (21%)]\tLoss: 0.048457\n",
      "Train Epoch: 2 [13440/60000 (22%)]\tLoss: 0.109592\n",
      "Train Epoch: 2 [14080/60000 (23%)]\tLoss: 0.064588\n",
      "Train Epoch: 2 [14720/60000 (25%)]\tLoss: 0.228939\n",
      "Train Epoch: 2 [15360/60000 (26%)]\tLoss: 0.037534\n",
      "Train Epoch: 2 [16000/60000 (27%)]\tLoss: 0.069423\n",
      "Train Epoch: 2 [16640/60000 (28%)]\tLoss: 0.161837\n",
      "Train Epoch: 2 [17280/60000 (29%)]\tLoss: 0.097324\n",
      "Train Epoch: 2 [17920/60000 (30%)]\tLoss: 0.048843\n",
      "Train Epoch: 2 [18560/60000 (31%)]\tLoss: 0.095035\n",
      "Train Epoch: 2 [19200/60000 (32%)]\tLoss: 0.088634\n",
      "Train Epoch: 2 [19840/60000 (33%)]\tLoss: 0.032306\n",
      "Train Epoch: 2 [20480/60000 (34%)]\tLoss: 0.145361\n",
      "Train Epoch: 2 [21120/60000 (35%)]\tLoss: 0.015991\n",
      "Train Epoch: 2 [21760/60000 (36%)]\tLoss: 0.132456\n",
      "Train Epoch: 2 [22400/60000 (37%)]\tLoss: 0.074081\n",
      "Train Epoch: 2 [23040/60000 (38%)]\tLoss: 0.077504\n",
      "Train Epoch: 2 [23680/60000 (39%)]\tLoss: 0.105257\n",
      "Train Epoch: 2 [24320/60000 (41%)]\tLoss: 0.012870\n",
      "Train Epoch: 2 [24960/60000 (42%)]\tLoss: 0.060334\n",
      "Train Epoch: 2 [25600/60000 (43%)]\tLoss: 0.045569\n",
      "Train Epoch: 2 [26240/60000 (44%)]\tLoss: 0.015087\n",
      "Train Epoch: 2 [26880/60000 (45%)]\tLoss: 0.050177\n",
      "Train Epoch: 2 [27520/60000 (46%)]\tLoss: 0.129137\n",
      "Train Epoch: 2 [28160/60000 (47%)]\tLoss: 0.043021\n",
      "Train Epoch: 2 [28800/60000 (48%)]\tLoss: 0.048817\n",
      "Train Epoch: 2 [29440/60000 (49%)]\tLoss: 0.119929\n",
      "Train Epoch: 2 [30080/60000 (50%)]\tLoss: 0.097498\n",
      "Train Epoch: 2 [30720/60000 (51%)]\tLoss: 0.027618\n",
      "Train Epoch: 2 [31360/60000 (52%)]\tLoss: 0.202292\n",
      "Train Epoch: 2 [32000/60000 (53%)]\tLoss: 0.129128\n",
      "Train Epoch: 2 [32640/60000 (54%)]\tLoss: 0.217096\n",
      "Train Epoch: 2 [33280/60000 (55%)]\tLoss: 0.058108\n",
      "Train Epoch: 2 [33920/60000 (57%)]\tLoss: 0.071650\n",
      "Train Epoch: 2 [34560/60000 (58%)]\tLoss: 0.075060\n",
      "Train Epoch: 2 [35200/60000 (59%)]\tLoss: 0.079639\n",
      "Train Epoch: 2 [35840/60000 (60%)]\tLoss: 0.050170\n",
      "Train Epoch: 2 [36480/60000 (61%)]\tLoss: 0.012579\n",
      "Train Epoch: 2 [37120/60000 (62%)]\tLoss: 0.115815\n",
      "Train Epoch: 2 [37760/60000 (63%)]\tLoss: 0.126229\n",
      "Train Epoch: 2 [38400/60000 (64%)]\tLoss: 0.120416\n",
      "Train Epoch: 2 [39040/60000 (65%)]\tLoss: 0.066206\n",
      "Train Epoch: 2 [39680/60000 (66%)]\tLoss: 0.020446\n",
      "Train Epoch: 2 [40320/60000 (67%)]\tLoss: 0.034014\n",
      "Train Epoch: 2 [40960/60000 (68%)]\tLoss: 0.058721\n",
      "Train Epoch: 2 [41600/60000 (69%)]\tLoss: 0.061586\n",
      "Train Epoch: 2 [42240/60000 (70%)]\tLoss: 0.060029\n",
      "Train Epoch: 2 [42880/60000 (71%)]\tLoss: 0.039625\n",
      "Train Epoch: 2 [43520/60000 (72%)]\tLoss: 0.091260\n",
      "Train Epoch: 2 [44160/60000 (74%)]\tLoss: 0.011014\n"
     ]
    },
    {
     "name": "stdout",
     "output_type": "stream",
     "text": [
      "Train Epoch: 2 [44800/60000 (75%)]\tLoss: 0.034660\n",
      "Train Epoch: 2 [45440/60000 (76%)]\tLoss: 0.024653\n",
      "Train Epoch: 2 [46080/60000 (77%)]\tLoss: 0.081592\n",
      "Train Epoch: 2 [46720/60000 (78%)]\tLoss: 0.074604\n",
      "Train Epoch: 2 [47360/60000 (79%)]\tLoss: 0.044495\n",
      "Train Epoch: 2 [48000/60000 (80%)]\tLoss: 0.098270\n",
      "Train Epoch: 2 [48640/60000 (81%)]\tLoss: 0.073216\n",
      "Train Epoch: 2 [49280/60000 (82%)]\tLoss: 0.014415\n",
      "Train Epoch: 2 [49920/60000 (83%)]\tLoss: 0.004895\n",
      "Train Epoch: 2 [50560/60000 (84%)]\tLoss: 0.025325\n",
      "Train Epoch: 2 [51200/60000 (85%)]\tLoss: 0.100192\n",
      "Train Epoch: 2 [51840/60000 (86%)]\tLoss: 0.115016\n",
      "Train Epoch: 2 [52480/60000 (87%)]\tLoss: 0.136716\n",
      "Train Epoch: 2 [53120/60000 (88%)]\tLoss: 0.074478\n",
      "Train Epoch: 2 [53760/60000 (90%)]\tLoss: 0.010072\n",
      "Train Epoch: 2 [54400/60000 (91%)]\tLoss: 0.051746\n",
      "Train Epoch: 2 [55040/60000 (92%)]\tLoss: 0.123856\n",
      "Train Epoch: 2 [55680/60000 (93%)]\tLoss: 0.166777\n",
      "Train Epoch: 2 [56320/60000 (94%)]\tLoss: 0.003768\n",
      "Train Epoch: 2 [56960/60000 (95%)]\tLoss: 0.340687\n",
      "Train Epoch: 2 [57600/60000 (96%)]\tLoss: 0.180309\n",
      "Train Epoch: 2 [58240/60000 (97%)]\tLoss: 0.043444\n",
      "Train Epoch: 2 [58880/60000 (98%)]\tLoss: 0.012978\n",
      "Train Epoch: 2 [59520/60000 (99%)]\tLoss: 0.062735\n",
      "\n",
      "Test set: Average loss: 0.0421, Accuracy: 9862/10000 (99%)\n",
      "\n"
     ]
    }
   ],
   "source": [
    "for epoch in range(1, 3):\n",
    "    train(model, device, train_loader, optimizer, epoch)\n",
    "    test(model, device, test_loader)"
   ]
  },
  {
   "cell_type": "markdown",
   "metadata": {},
   "source": [
    "## run inference on trained model"
   ]
  },
  {
   "cell_type": "code",
   "execution_count": 8,
   "metadata": {},
   "outputs": [],
   "source": [
    "examples = enumerate(test_loader)\n",
    "batch_idx, (example_data, example_targets) = next(examples)"
   ]
  },
  {
   "cell_type": "code",
   "execution_count": 9,
   "metadata": {},
   "outputs": [
    {
     "data": {
      "text/plain": [
       "<matplotlib.image.AxesImage at 0x133ad9410>"
      ]
     },
     "execution_count": 9,
     "metadata": {},
     "output_type": "execute_result"
    },
    {
     "data": {
      "image/png": "[encoded data removed]",
      "text/plain": [
       "<Figure size 432x288 with 1 Axes>"
      ]
     },
     "metadata": {
      "needs_background": "light"
     },
     "output_type": "display_data"
    }
   ],
   "source": [
    "plt.imshow(example_data[0][0], cmap='gray', interpolation='none')"
   ]
  },
  {
   "cell_type": "code",
   "execution_count": 10,
   "metadata": {},
   "outputs": [
    {
     "data": {
      "text/plain": [
       "tensor([8])"
      ]
     },
     "execution_count": 10,
     "metadata": {},
     "output_type": "execute_result"
    }
   ],
   "source": [
    "model(example_data).data.max(1, keepdim=True)[1][0]"
   ]
  }
 ],
 "metadata": {
  "kernelspec": {
   "display_name": "Python 3",
   "language": "python",
   "name": "python3"
  },
  "language_info": {
   "codemirror_mode": {
    "name": "ipython",
    "version": 3
   },
   "file_extension": ".py",
   "mimetype": "text/x-python",
   "name": "python",
   "nbconvert_exporter": "python",
   "pygments_lexer": "ipython3",
   "version": "3.7.6"
  }
 },
 "nbformat": 4,
 "nbformat_minor": 4
}
